{
  "nbformat": 4,
  "nbformat_minor": 0,
  "metadata": {
    "colab": {
      "name": "3주차_과제_Saza.ipynb",
      "provenance": [],
      "authorship_tag": "ABX9TyOHFY5pscxmqQ4Balvoyv5n",
      "include_colab_link": true
    },
    "kernelspec": {
      "name": "python3",
      "display_name": "Python 3"
    },
    "language_info": {
      "name": "python"
    }
  },
  "cells": [
    {
      "cell_type": "markdown",
      "metadata": {
        "id": "view-in-github",
        "colab_type": "text"
      },
      "source": [
        "<a href=\"https://colab.research.google.com/github/lionem2018/ML_B4E_homework/blob/main/3%EC%A3%BC%EC%B0%A8_%EA%B3%BC%EC%A0%9C_Saza.ipynb\" target=\"_parent\"><img src=\"https://colab.research.google.com/assets/colab-badge.svg\" alt=\"Open In Colab\"/></a>"
      ]
    },
    {
      "cell_type": "code",
      "source": [
        " !pip install --upgrade imblearn"
      ],
      "metadata": {
        "colab": {
          "base_uri": "https://localhost:8080/"
        },
        "id": "dr_NcBACGF_x",
        "outputId": "fce87468-dcc9-4a19-dd4e-82031995db42"
      },
      "execution_count": 1,
      "outputs": [
        {
          "output_type": "stream",
          "name": "stdout",
          "text": [
            "Requirement already satisfied: imblearn in /usr/local/lib/python3.7/dist-packages (0.0)\n",
            "Requirement already satisfied: imbalanced-learn in /usr/local/lib/python3.7/dist-packages (from imblearn) (0.8.1)\n",
            "Requirement already satisfied: numpy>=1.13.3 in /usr/local/lib/python3.7/dist-packages (from imbalanced-learn->imblearn) (1.21.6)\n",
            "Requirement already satisfied: joblib>=0.11 in /usr/local/lib/python3.7/dist-packages (from imbalanced-learn->imblearn) (1.1.0)\n",
            "Requirement already satisfied: scikit-learn>=0.24 in /usr/local/lib/python3.7/dist-packages (from imbalanced-learn->imblearn) (1.0.2)\n",
            "Requirement already satisfied: scipy>=0.19.1 in /usr/local/lib/python3.7/dist-packages (from imbalanced-learn->imblearn) (1.4.1)\n",
            "Requirement already satisfied: threadpoolctl>=2.0.0 in /usr/local/lib/python3.7/dist-packages (from scikit-learn>=0.24->imbalanced-learn->imblearn) (3.1.0)\n"
          ]
        }
      ]
    },
    {
      "cell_type": "code",
      "source": [
        "from google.colab import drive\n",
        "drive.mount('/content/gdrive')"
      ],
      "metadata": {
        "colab": {
          "base_uri": "https://localhost:8080/"
        },
        "id": "ZH7RxJCNt0ZD",
        "outputId": "c94d3bab-c7a0-40f0-dba8-28ceb6f12419"
      },
      "execution_count": 2,
      "outputs": [
        {
          "output_type": "stream",
          "name": "stdout",
          "text": [
            "Drive already mounted at /content/gdrive; to attempt to forcibly remount, call drive.mount(\"/content/gdrive\", force_remount=True).\n"
          ]
        }
      ]
    },
    {
      "cell_type": "code",
      "execution_count": 3,
      "metadata": {
        "id": "1EzBZIBx_fNd"
      },
      "outputs": [],
      "source": [
        "import numpy as np\n",
        "import pandas as pd\n",
        "import warnings\n",
        "warnings.filterwarnings('ignore')"
      ]
    },
    {
      "cell_type": "code",
      "source": [
        "from sklearn.preprocessing import LabelEncoder\n",
        "from sklearn.model_selection import train_test_split\n",
        "\n",
        "df = pd.read_csv(\"/content/gdrive/MyDrive/Colab Notebooks/WA_Fn-UseC_-Telco-Customer-Churn.csv\")\n",
        "\n",
        "def get_preprocessed_data(df):\n",
        "  df['Churn'] = df['Churn'].replace({'Yes': 1, 'No': 0}).astype('int')\n",
        "  df['TotalCharges'] = df['TotalCharges'].replace(' ', np.nan).astype('float64')\n",
        "  df['TotalCharges'] = df['TotalCharges'].fillna(df['TotalCharges'].mean())\n",
        "  df = df.drop('customerID', axis = 1, inplace = False)\n",
        "  object_columns = df.dtypes[df.dtypes == 'object'].index.tolist()\n",
        "\n",
        "  return df\n",
        "\n",
        "def get_encoded_data(df, object_columns):\n",
        "  encoder = LabelEncoder()\n",
        "\n",
        "  for object_column in object_columns:\n",
        "    df[object_column] = encoder.fit_transform(df[object_column])\n",
        "\n",
        "  return df\n",
        "\n",
        "def get_train_test_data(df, test_size=0.3):\n",
        "  ftr_df = df.iloc[:, :-1]\n",
        "  tgt_df = df.iloc[:, -1]\n",
        "\n",
        "  ftr_train, ftr_test, tgt_train, tgt_test = train_test_split(ftr_df, tgt_df, test_size=test_size, random_state=0, stratify=tgt_df)\n",
        "\n",
        "  print(ftr_train.shape, ftr_test.shape, tgt_train.shape, tgt_test.shape)\n",
        "\n",
        "  return ftr_train, ftr_test, tgt_train, tgt_test\n",
        "\n",
        "df_processed = get_preprocessed_data(df)\n",
        "object_columns = df_processed.dtypes[df.dtypes == 'object'].index.tolist()\n",
        "df_encoded = get_encoded_data(df_processed, object_columns)\n",
        "ftr_train, ftr_test, tgt_train, tgt_test = get_train_test_data(df_encoded, test_size=0.3)"
      ],
      "metadata": {
        "id": "rzMkAeu7_gkT",
        "colab": {
          "base_uri": "https://localhost:8080/"
        },
        "outputId": "0b2f77db-2074-43e5-8473-2a5b46e5a8f6"
      },
      "execution_count": 4,
      "outputs": [
        {
          "output_type": "stream",
          "name": "stdout",
          "text": [
            "(4930, 19) (2113, 19) (4930,) (2113,)\n"
          ]
        }
      ]
    },
    {
      "cell_type": "code",
      "source": [
        "from sklearn.metrics import accuracy_score, precision_score, recall_score, roc_auc_score\n",
        "from sklearn.metrics import f1_score, confusion_matrix, precision_recall_curve, roc_curve\n",
        "\n",
        "def get_clf_eval(y_test, y_pred):\n",
        "  accuracy = accuracy_score(y_test, y_pred)\n",
        "  precision = precision_score(y_test, y_pred, average='macro')\n",
        "  recall = recall_score(y_test, y_pred, average='macro')\n",
        "  F1 = f1_score(y_test, y_pred, average='macro')\n",
        "\n",
        "  print(\"\\n정확도: {:.4f}\".format(accuracy))\n",
        "  print(\"정밀도: {:.4f}\".format(precision))\n",
        "  print(\"재현율: {:.4f}\".format(recall))\n",
        "  print(\"F1: {:.4f}\".format(F1))"
      ],
      "metadata": {
        "id": "Na2I2qAHNLXh"
      },
      "execution_count": 5,
      "outputs": []
    },
    {
      "cell_type": "markdown",
      "source": [
        "####요구사항 1.XGBoost와 LightGBM을 각각 이용해여 학습 데이터로 학습을 테스트 데이터로 성능 평가를 수행합니다."
      ],
      "metadata": {
        "id": "dqbYuVWUxu7K"
      }
    },
    {
      "cell_type": "code",
      "source": [
        "from xgboost import XGBClassifier\n",
        "\n",
        "evals = [(ftr_test, tgt_test)]\n",
        "\n",
        "xgb_wrapper = XGBClassifier(n_estimators=100)\n",
        "xgb_wrapper.fit(ftr_train, tgt_train, eval_set=evals)\n",
        "\n",
        "w_preds = xgb_wrapper.predict(ftr_test)\n",
        "\n",
        "get_clf_eval(tgt_test, w_preds)"
      ],
      "metadata": {
        "colab": {
          "base_uri": "https://localhost:8080/"
        },
        "id": "gTE5nU29xm2j",
        "outputId": "940c2fd0-324a-4d7e-9fb7-2f589f5e65aa"
      },
      "execution_count": 6,
      "outputs": [
        {
          "output_type": "stream",
          "name": "stdout",
          "text": [
            "[0]\tvalidation_0-error:0.223852\n",
            "[1]\tvalidation_0-error:0.207288\n",
            "[2]\tvalidation_0-error:0.210128\n",
            "[3]\tvalidation_0-error:0.202556\n",
            "[4]\tvalidation_0-error:0.203029\n",
            "[5]\tvalidation_0-error:0.200663\n",
            "[6]\tvalidation_0-error:0.203029\n",
            "[7]\tvalidation_0-error:0.204449\n",
            "[8]\tvalidation_0-error:0.204922\n",
            "[9]\tvalidation_0-error:0.203975\n",
            "[10]\tvalidation_0-error:0.203975\n",
            "[11]\tvalidation_0-error:0.202556\n",
            "[12]\tvalidation_0-error:0.203029\n",
            "[13]\tvalidation_0-error:0.202556\n",
            "[14]\tvalidation_0-error:0.202082\n",
            "[15]\tvalidation_0-error:0.204449\n",
            "[16]\tvalidation_0-error:0.203502\n",
            "[17]\tvalidation_0-error:0.203502\n",
            "[18]\tvalidation_0-error:0.204449\n",
            "[19]\tvalidation_0-error:0.204449\n",
            "[20]\tvalidation_0-error:0.203029\n",
            "[21]\tvalidation_0-error:0.200663\n",
            "[22]\tvalidation_0-error:0.204449\n",
            "[23]\tvalidation_0-error:0.203975\n",
            "[24]\tvalidation_0-error:0.201136\n",
            "[25]\tvalidation_0-error:0.203029\n",
            "[26]\tvalidation_0-error:0.204922\n",
            "[27]\tvalidation_0-error:0.203502\n",
            "[28]\tvalidation_0-error:0.203029\n",
            "[29]\tvalidation_0-error:0.202556\n",
            "[30]\tvalidation_0-error:0.200663\n",
            "[31]\tvalidation_0-error:0.199243\n",
            "[32]\tvalidation_0-error:0.19877\n",
            "[33]\tvalidation_0-error:0.19593\n",
            "[34]\tvalidation_0-error:0.19735\n",
            "[35]\tvalidation_0-error:0.196876\n",
            "[36]\tvalidation_0-error:0.19735\n",
            "[37]\tvalidation_0-error:0.19735\n",
            "[38]\tvalidation_0-error:0.196876\n",
            "[39]\tvalidation_0-error:0.19735\n",
            "[40]\tvalidation_0-error:0.195457\n",
            "[41]\tvalidation_0-error:0.19451\n",
            "[42]\tvalidation_0-error:0.194983\n",
            "[43]\tvalidation_0-error:0.195457\n",
            "[44]\tvalidation_0-error:0.19593\n",
            "[45]\tvalidation_0-error:0.19593\n",
            "[46]\tvalidation_0-error:0.19451\n",
            "[47]\tvalidation_0-error:0.19451\n",
            "[48]\tvalidation_0-error:0.193564\n",
            "[49]\tvalidation_0-error:0.19309\n",
            "[50]\tvalidation_0-error:0.19309\n",
            "[51]\tvalidation_0-error:0.193564\n",
            "[52]\tvalidation_0-error:0.194037\n",
            "[53]\tvalidation_0-error:0.196403\n",
            "[54]\tvalidation_0-error:0.196876\n",
            "[55]\tvalidation_0-error:0.196876\n",
            "[56]\tvalidation_0-error:0.196403\n",
            "[57]\tvalidation_0-error:0.194983\n",
            "[58]\tvalidation_0-error:0.194983\n",
            "[59]\tvalidation_0-error:0.19451\n",
            "[60]\tvalidation_0-error:0.194983\n",
            "[61]\tvalidation_0-error:0.19451\n",
            "[62]\tvalidation_0-error:0.19451\n",
            "[63]\tvalidation_0-error:0.194037\n",
            "[64]\tvalidation_0-error:0.194037\n",
            "[65]\tvalidation_0-error:0.194037\n",
            "[66]\tvalidation_0-error:0.194037\n",
            "[67]\tvalidation_0-error:0.19451\n",
            "[68]\tvalidation_0-error:0.19451\n",
            "[69]\tvalidation_0-error:0.193564\n",
            "[70]\tvalidation_0-error:0.194037\n",
            "[71]\tvalidation_0-error:0.194037\n",
            "[72]\tvalidation_0-error:0.194037\n",
            "[73]\tvalidation_0-error:0.19451\n",
            "[74]\tvalidation_0-error:0.19451\n",
            "[75]\tvalidation_0-error:0.19451\n",
            "[76]\tvalidation_0-error:0.194983\n",
            "[77]\tvalidation_0-error:0.194983\n",
            "[78]\tvalidation_0-error:0.194983\n",
            "[79]\tvalidation_0-error:0.19451\n",
            "[80]\tvalidation_0-error:0.19451\n",
            "[81]\tvalidation_0-error:0.194037\n",
            "[82]\tvalidation_0-error:0.194037\n",
            "[83]\tvalidation_0-error:0.194983\n",
            "[84]\tvalidation_0-error:0.195457\n",
            "[85]\tvalidation_0-error:0.195457\n",
            "[86]\tvalidation_0-error:0.195457\n",
            "[87]\tvalidation_0-error:0.195457\n",
            "[88]\tvalidation_0-error:0.19593\n",
            "[89]\tvalidation_0-error:0.196403\n",
            "[90]\tvalidation_0-error:0.196876\n",
            "[91]\tvalidation_0-error:0.19593\n",
            "[92]\tvalidation_0-error:0.19735\n",
            "[93]\tvalidation_0-error:0.19593\n",
            "[94]\tvalidation_0-error:0.19593\n",
            "[95]\tvalidation_0-error:0.19593\n",
            "[96]\tvalidation_0-error:0.196403\n",
            "[97]\tvalidation_0-error:0.195457\n",
            "[98]\tvalidation_0-error:0.195457\n",
            "[99]\tvalidation_0-error:0.197823\n",
            "\n",
            "정확도: 0.8022\n",
            "정밀도: 0.7508\n",
            "재현율: 0.7117\n",
            "F1: 0.7262\n"
          ]
        }
      ]
    },
    {
      "cell_type": "code",
      "source": [
        "from lightgbm import LGBMClassifier\n",
        "\n",
        "lgbm_wrapper = LGBMClassifier(n_estimators=100)\n",
        "lgbm_wrapper.fit(ftr_train, tgt_train, eval_set=evals)\n",
        "\n",
        "lgbm_preds = lgbm_wrapper.predict(ftr_test)\n",
        "\n",
        "get_clf_eval(tgt_test, lgbm_preds)"
      ],
      "metadata": {
        "colab": {
          "base_uri": "https://localhost:8080/"
        },
        "id": "33Lv7v-qxuDK",
        "outputId": "162f8250-3ab1-4531-f87a-d7d176a0dec9"
      },
      "execution_count": 7,
      "outputs": [
        {
          "output_type": "stream",
          "name": "stdout",
          "text": [
            "[1]\tvalid_0's binary_logloss: 0.550007\n",
            "[2]\tvalid_0's binary_logloss: 0.527781\n",
            "[3]\tvalid_0's binary_logloss: 0.509902\n",
            "[4]\tvalid_0's binary_logloss: 0.495336\n",
            "[5]\tvalid_0's binary_logloss: 0.483477\n",
            "[6]\tvalid_0's binary_logloss: 0.472685\n",
            "[7]\tvalid_0's binary_logloss: 0.464412\n",
            "[8]\tvalid_0's binary_logloss: 0.457062\n",
            "[9]\tvalid_0's binary_logloss: 0.451367\n",
            "[10]\tvalid_0's binary_logloss: 0.446458\n",
            "[11]\tvalid_0's binary_logloss: 0.442407\n",
            "[12]\tvalid_0's binary_logloss: 0.438658\n",
            "[13]\tvalid_0's binary_logloss: 0.435501\n",
            "[14]\tvalid_0's binary_logloss: 0.432648\n",
            "[15]\tvalid_0's binary_logloss: 0.430412\n",
            "[16]\tvalid_0's binary_logloss: 0.428856\n",
            "[17]\tvalid_0's binary_logloss: 0.427193\n",
            "[18]\tvalid_0's binary_logloss: 0.426199\n",
            "[19]\tvalid_0's binary_logloss: 0.424275\n",
            "[20]\tvalid_0's binary_logloss: 0.422988\n",
            "[21]\tvalid_0's binary_logloss: 0.422297\n",
            "[22]\tvalid_0's binary_logloss: 0.42161\n",
            "[23]\tvalid_0's binary_logloss: 0.421109\n",
            "[24]\tvalid_0's binary_logloss: 0.420421\n",
            "[25]\tvalid_0's binary_logloss: 0.420816\n",
            "[26]\tvalid_0's binary_logloss: 0.420426\n",
            "[27]\tvalid_0's binary_logloss: 0.41995\n",
            "[28]\tvalid_0's binary_logloss: 0.419778\n",
            "[29]\tvalid_0's binary_logloss: 0.419794\n",
            "[30]\tvalid_0's binary_logloss: 0.419543\n",
            "[31]\tvalid_0's binary_logloss: 0.419331\n",
            "[32]\tvalid_0's binary_logloss: 0.41953\n",
            "[33]\tvalid_0's binary_logloss: 0.419272\n",
            "[34]\tvalid_0's binary_logloss: 0.419568\n",
            "[35]\tvalid_0's binary_logloss: 0.41955\n",
            "[36]\tvalid_0's binary_logloss: 0.420075\n",
            "[37]\tvalid_0's binary_logloss: 0.420595\n",
            "[38]\tvalid_0's binary_logloss: 0.420862\n",
            "[39]\tvalid_0's binary_logloss: 0.421491\n",
            "[40]\tvalid_0's binary_logloss: 0.420952\n",
            "[41]\tvalid_0's binary_logloss: 0.421197\n",
            "[42]\tvalid_0's binary_logloss: 0.421478\n",
            "[43]\tvalid_0's binary_logloss: 0.422237\n",
            "[44]\tvalid_0's binary_logloss: 0.422622\n",
            "[45]\tvalid_0's binary_logloss: 0.422941\n",
            "[46]\tvalid_0's binary_logloss: 0.423083\n",
            "[47]\tvalid_0's binary_logloss: 0.422792\n",
            "[48]\tvalid_0's binary_logloss: 0.422806\n",
            "[49]\tvalid_0's binary_logloss: 0.423171\n",
            "[50]\tvalid_0's binary_logloss: 0.423238\n",
            "[51]\tvalid_0's binary_logloss: 0.423842\n",
            "[52]\tvalid_0's binary_logloss: 0.423918\n",
            "[53]\tvalid_0's binary_logloss: 0.424733\n",
            "[54]\tvalid_0's binary_logloss: 0.425048\n",
            "[55]\tvalid_0's binary_logloss: 0.42547\n",
            "[56]\tvalid_0's binary_logloss: 0.425626\n",
            "[57]\tvalid_0's binary_logloss: 0.425918\n",
            "[58]\tvalid_0's binary_logloss: 0.426424\n",
            "[59]\tvalid_0's binary_logloss: 0.426895\n",
            "[60]\tvalid_0's binary_logloss: 0.427118\n",
            "[61]\tvalid_0's binary_logloss: 0.427268\n",
            "[62]\tvalid_0's binary_logloss: 0.427666\n",
            "[63]\tvalid_0's binary_logloss: 0.427742\n",
            "[64]\tvalid_0's binary_logloss: 0.428084\n",
            "[65]\tvalid_0's binary_logloss: 0.428459\n",
            "[66]\tvalid_0's binary_logloss: 0.42904\n",
            "[67]\tvalid_0's binary_logloss: 0.428984\n",
            "[68]\tvalid_0's binary_logloss: 0.428957\n",
            "[69]\tvalid_0's binary_logloss: 0.42905\n",
            "[70]\tvalid_0's binary_logloss: 0.42895\n",
            "[71]\tvalid_0's binary_logloss: 0.428845\n",
            "[72]\tvalid_0's binary_logloss: 0.4292\n",
            "[73]\tvalid_0's binary_logloss: 0.429179\n",
            "[74]\tvalid_0's binary_logloss: 0.429261\n",
            "[75]\tvalid_0's binary_logloss: 0.429522\n",
            "[76]\tvalid_0's binary_logloss: 0.429755\n",
            "[77]\tvalid_0's binary_logloss: 0.42995\n",
            "[78]\tvalid_0's binary_logloss: 0.43052\n",
            "[79]\tvalid_0's binary_logloss: 0.430927\n",
            "[80]\tvalid_0's binary_logloss: 0.430934\n",
            "[81]\tvalid_0's binary_logloss: 0.430793\n",
            "[82]\tvalid_0's binary_logloss: 0.431452\n",
            "[83]\tvalid_0's binary_logloss: 0.431802\n",
            "[84]\tvalid_0's binary_logloss: 0.43221\n",
            "[85]\tvalid_0's binary_logloss: 0.432486\n",
            "[86]\tvalid_0's binary_logloss: 0.432725\n",
            "[87]\tvalid_0's binary_logloss: 0.433153\n",
            "[88]\tvalid_0's binary_logloss: 0.433695\n",
            "[89]\tvalid_0's binary_logloss: 0.434405\n",
            "[90]\tvalid_0's binary_logloss: 0.434683\n",
            "[91]\tvalid_0's binary_logloss: 0.434782\n",
            "[92]\tvalid_0's binary_logloss: 0.434686\n",
            "[93]\tvalid_0's binary_logloss: 0.434943\n",
            "[94]\tvalid_0's binary_logloss: 0.435559\n",
            "[95]\tvalid_0's binary_logloss: 0.436329\n",
            "[96]\tvalid_0's binary_logloss: 0.436767\n",
            "[97]\tvalid_0's binary_logloss: 0.436867\n",
            "[98]\tvalid_0's binary_logloss: 0.437248\n",
            "[99]\tvalid_0's binary_logloss: 0.437967\n",
            "[100]\tvalid_0's binary_logloss: 0.438156\n",
            "\n",
            "정확도: 0.7870\n",
            "정밀도: 0.7272\n",
            "재현율: 0.6962\n",
            "F1: 0.7081\n"
          ]
        }
      ]
    },
    {
      "cell_type": "markdown",
      "source": [
        "#### 요구사항2. 기존 학습 데이터를 다시 학습과 검증 데이터로 분리한 후 LightGBM의 early_stopping을 검증 데이터에 적용하여 학습/예측/평가를 수행합니다."
      ],
      "metadata": {
        "id": "ndGjtX_b2bDE"
      }
    },
    {
      "cell_type": "code",
      "source": [
        "# 학습 데이터 분리\n",
        "ftr_tr, ftr_val, tgt_tr, tgt_val = train_test_split(ftr_train, tgt_train, test_size=0.3, random_state=0, stratify=tgt_train)\n",
        "\n",
        "print(ftr_tr.shape, tgt_tr.shape, ftr_val.shape, tgt_val.shape)\n",
        "print(tgt_tr.value_counts()/tgt_tr.shape[0])\n",
        "print(tgt_val.value_counts()/tgt_val.shape[0])"
      ],
      "metadata": {
        "colab": {
          "base_uri": "https://localhost:8080/"
        },
        "id": "n3n5msBLxtm-",
        "outputId": "646990d9-a1be-4ab0-d583-616fead4d298"
      },
      "execution_count": 8,
      "outputs": [
        {
          "output_type": "stream",
          "name": "stdout",
          "text": [
            "(3451, 19) (3451,) (1479, 19) (1479,)\n",
            "0    0.73457\n",
            "1    0.26543\n",
            "Name: Churn, dtype: float64\n",
            "0    0.734956\n",
            "1    0.265044\n",
            "Name: Churn, dtype: float64\n"
          ]
        }
      ]
    },
    {
      "cell_type": "code",
      "source": [
        "#LGBM으로 학습시키고, 학습/예측/평가 수행\n",
        "from lightgbm import LGBMClassifier\n",
        "\n",
        "evals_val = [(ftr_tr, tgt_tr), (ftr_val, tgt_val)]\n",
        "\n",
        "lgbm_wrapper = LGBMClassifier(n_estimators=500)\n",
        "lgbm_wrapper.fit(ftr_tr, tgt_tr, eval_metric='logloss', eval_set=evals_val, verbose=True, early_stopping_rounds=50)\n",
        "\n",
        "lgbm_preds = lgbm_wrapper.predict(ftr_test)\n",
        "\n",
        "get_clf_eval(tgt_test, lgbm_preds)"
      ],
      "metadata": {
        "colab": {
          "base_uri": "https://localhost:8080/"
        },
        "id": "ywPx4txc__r1",
        "outputId": "1c8d2279-804c-4df4-f7ae-7e9c5a30b271"
      },
      "execution_count": 9,
      "outputs": [
        {
          "output_type": "stream",
          "name": "stdout",
          "text": [
            "[1]\ttraining's binary_logloss: 0.54617\ttraining's binary_logloss: 0.54617\tvalid_1's binary_logloss: 0.550514\tvalid_1's binary_logloss: 0.550514\n",
            "Training until validation scores don't improve for 50 rounds.\n",
            "[2]\ttraining's binary_logloss: 0.51928\ttraining's binary_logloss: 0.51928\tvalid_1's binary_logloss: 0.527429\tvalid_1's binary_logloss: 0.527429\n",
            "[3]\ttraining's binary_logloss: 0.497429\ttraining's binary_logloss: 0.497429\tvalid_1's binary_logloss: 0.509493\tvalid_1's binary_logloss: 0.509493\n",
            "[4]\ttraining's binary_logloss: 0.479561\ttraining's binary_logloss: 0.479561\tvalid_1's binary_logloss: 0.494544\tvalid_1's binary_logloss: 0.494544\n",
            "[5]\ttraining's binary_logloss: 0.463765\ttraining's binary_logloss: 0.463765\tvalid_1's binary_logloss: 0.482802\tvalid_1's binary_logloss: 0.482802\n",
            "[6]\ttraining's binary_logloss: 0.450849\ttraining's binary_logloss: 0.450849\tvalid_1's binary_logloss: 0.472907\tvalid_1's binary_logloss: 0.472907\n",
            "[7]\ttraining's binary_logloss: 0.439339\ttraining's binary_logloss: 0.439339\tvalid_1's binary_logloss: 0.464373\tvalid_1's binary_logloss: 0.464373\n",
            "[8]\ttraining's binary_logloss: 0.429359\ttraining's binary_logloss: 0.429359\tvalid_1's binary_logloss: 0.45782\tvalid_1's binary_logloss: 0.45782\n",
            "[9]\ttraining's binary_logloss: 0.420955\ttraining's binary_logloss: 0.420955\tvalid_1's binary_logloss: 0.451622\tvalid_1's binary_logloss: 0.451622\n",
            "[10]\ttraining's binary_logloss: 0.412805\ttraining's binary_logloss: 0.412805\tvalid_1's binary_logloss: 0.44682\tvalid_1's binary_logloss: 0.44682\n",
            "[11]\ttraining's binary_logloss: 0.40582\ttraining's binary_logloss: 0.40582\tvalid_1's binary_logloss: 0.442717\tvalid_1's binary_logloss: 0.442717\n",
            "[12]\ttraining's binary_logloss: 0.399161\ttraining's binary_logloss: 0.399161\tvalid_1's binary_logloss: 0.438982\tvalid_1's binary_logloss: 0.438982\n",
            "[13]\ttraining's binary_logloss: 0.393486\ttraining's binary_logloss: 0.393486\tvalid_1's binary_logloss: 0.436592\tvalid_1's binary_logloss: 0.436592\n",
            "[14]\ttraining's binary_logloss: 0.388062\ttraining's binary_logloss: 0.388062\tvalid_1's binary_logloss: 0.433455\tvalid_1's binary_logloss: 0.433455\n",
            "[15]\ttraining's binary_logloss: 0.383139\ttraining's binary_logloss: 0.383139\tvalid_1's binary_logloss: 0.431669\tvalid_1's binary_logloss: 0.431669\n",
            "[16]\ttraining's binary_logloss: 0.378608\ttraining's binary_logloss: 0.378608\tvalid_1's binary_logloss: 0.43047\tvalid_1's binary_logloss: 0.43047\n",
            "[17]\ttraining's binary_logloss: 0.374264\ttraining's binary_logloss: 0.374264\tvalid_1's binary_logloss: 0.428895\tvalid_1's binary_logloss: 0.428895\n",
            "[18]\ttraining's binary_logloss: 0.370336\ttraining's binary_logloss: 0.370336\tvalid_1's binary_logloss: 0.427981\tvalid_1's binary_logloss: 0.427981\n",
            "[19]\ttraining's binary_logloss: 0.366235\ttraining's binary_logloss: 0.366235\tvalid_1's binary_logloss: 0.427089\tvalid_1's binary_logloss: 0.427089\n",
            "[20]\ttraining's binary_logloss: 0.362695\ttraining's binary_logloss: 0.362695\tvalid_1's binary_logloss: 0.426041\tvalid_1's binary_logloss: 0.426041\n",
            "[21]\ttraining's binary_logloss: 0.359116\ttraining's binary_logloss: 0.359116\tvalid_1's binary_logloss: 0.425209\tvalid_1's binary_logloss: 0.425209\n",
            "[22]\ttraining's binary_logloss: 0.355889\ttraining's binary_logloss: 0.355889\tvalid_1's binary_logloss: 0.423943\tvalid_1's binary_logloss: 0.423943\n",
            "[23]\ttraining's binary_logloss: 0.353118\ttraining's binary_logloss: 0.353118\tvalid_1's binary_logloss: 0.422922\tvalid_1's binary_logloss: 0.422922\n",
            "[24]\ttraining's binary_logloss: 0.34979\ttraining's binary_logloss: 0.34979\tvalid_1's binary_logloss: 0.42291\tvalid_1's binary_logloss: 0.42291\n",
            "[25]\ttraining's binary_logloss: 0.347179\ttraining's binary_logloss: 0.347179\tvalid_1's binary_logloss: 0.422601\tvalid_1's binary_logloss: 0.422601\n",
            "[26]\ttraining's binary_logloss: 0.344176\ttraining's binary_logloss: 0.344176\tvalid_1's binary_logloss: 0.421173\tvalid_1's binary_logloss: 0.421173\n",
            "[27]\ttraining's binary_logloss: 0.341312\ttraining's binary_logloss: 0.341312\tvalid_1's binary_logloss: 0.4207\tvalid_1's binary_logloss: 0.4207\n",
            "[28]\ttraining's binary_logloss: 0.338787\ttraining's binary_logloss: 0.338787\tvalid_1's binary_logloss: 0.420992\tvalid_1's binary_logloss: 0.420992\n",
            "[29]\ttraining's binary_logloss: 0.33623\ttraining's binary_logloss: 0.33623\tvalid_1's binary_logloss: 0.420919\tvalid_1's binary_logloss: 0.420919\n",
            "[30]\ttraining's binary_logloss: 0.333581\ttraining's binary_logloss: 0.333581\tvalid_1's binary_logloss: 0.420562\tvalid_1's binary_logloss: 0.420562\n",
            "[31]\ttraining's binary_logloss: 0.330924\ttraining's binary_logloss: 0.330924\tvalid_1's binary_logloss: 0.420163\tvalid_1's binary_logloss: 0.420163\n",
            "[32]\ttraining's binary_logloss: 0.328891\ttraining's binary_logloss: 0.328891\tvalid_1's binary_logloss: 0.420937\tvalid_1's binary_logloss: 0.420937\n",
            "[33]\ttraining's binary_logloss: 0.32675\ttraining's binary_logloss: 0.32675\tvalid_1's binary_logloss: 0.420982\tvalid_1's binary_logloss: 0.420982\n",
            "[34]\ttraining's binary_logloss: 0.324557\ttraining's binary_logloss: 0.324557\tvalid_1's binary_logloss: 0.421101\tvalid_1's binary_logloss: 0.421101\n",
            "[35]\ttraining's binary_logloss: 0.322427\ttraining's binary_logloss: 0.322427\tvalid_1's binary_logloss: 0.42075\tvalid_1's binary_logloss: 0.42075\n",
            "[36]\ttraining's binary_logloss: 0.319868\ttraining's binary_logloss: 0.319868\tvalid_1's binary_logloss: 0.421167\tvalid_1's binary_logloss: 0.421167\n",
            "[37]\ttraining's binary_logloss: 0.317288\ttraining's binary_logloss: 0.317288\tvalid_1's binary_logloss: 0.420756\tvalid_1's binary_logloss: 0.420756\n",
            "[38]\ttraining's binary_logloss: 0.315035\ttraining's binary_logloss: 0.315035\tvalid_1's binary_logloss: 0.421064\tvalid_1's binary_logloss: 0.421064\n",
            "[39]\ttraining's binary_logloss: 0.312943\ttraining's binary_logloss: 0.312943\tvalid_1's binary_logloss: 0.421391\tvalid_1's binary_logloss: 0.421391\n",
            "[40]\ttraining's binary_logloss: 0.310554\ttraining's binary_logloss: 0.310554\tvalid_1's binary_logloss: 0.421815\tvalid_1's binary_logloss: 0.421815\n",
            "[41]\ttraining's binary_logloss: 0.308525\ttraining's binary_logloss: 0.308525\tvalid_1's binary_logloss: 0.421305\tvalid_1's binary_logloss: 0.421305\n",
            "[42]\ttraining's binary_logloss: 0.306244\ttraining's binary_logloss: 0.306244\tvalid_1's binary_logloss: 0.421816\tvalid_1's binary_logloss: 0.421816\n",
            "[43]\ttraining's binary_logloss: 0.304196\ttraining's binary_logloss: 0.304196\tvalid_1's binary_logloss: 0.421957\tvalid_1's binary_logloss: 0.421957\n",
            "[44]\ttraining's binary_logloss: 0.302383\ttraining's binary_logloss: 0.302383\tvalid_1's binary_logloss: 0.421496\tvalid_1's binary_logloss: 0.421496\n",
            "[45]\ttraining's binary_logloss: 0.300589\ttraining's binary_logloss: 0.300589\tvalid_1's binary_logloss: 0.422252\tvalid_1's binary_logloss: 0.422252\n",
            "[46]\ttraining's binary_logloss: 0.298642\ttraining's binary_logloss: 0.298642\tvalid_1's binary_logloss: 0.423104\tvalid_1's binary_logloss: 0.423104\n",
            "[47]\ttraining's binary_logloss: 0.296963\ttraining's binary_logloss: 0.296963\tvalid_1's binary_logloss: 0.423827\tvalid_1's binary_logloss: 0.423827\n",
            "[48]\ttraining's binary_logloss: 0.295177\ttraining's binary_logloss: 0.295177\tvalid_1's binary_logloss: 0.423922\tvalid_1's binary_logloss: 0.423922\n",
            "[49]\ttraining's binary_logloss: 0.293377\ttraining's binary_logloss: 0.293377\tvalid_1's binary_logloss: 0.423706\tvalid_1's binary_logloss: 0.423706\n",
            "[50]\ttraining's binary_logloss: 0.291405\ttraining's binary_logloss: 0.291405\tvalid_1's binary_logloss: 0.424144\tvalid_1's binary_logloss: 0.424144\n",
            "[51]\ttraining's binary_logloss: 0.289711\ttraining's binary_logloss: 0.289711\tvalid_1's binary_logloss: 0.42428\tvalid_1's binary_logloss: 0.42428\n",
            "[52]\ttraining's binary_logloss: 0.288215\ttraining's binary_logloss: 0.288215\tvalid_1's binary_logloss: 0.424794\tvalid_1's binary_logloss: 0.424794\n",
            "[53]\ttraining's binary_logloss: 0.286436\ttraining's binary_logloss: 0.286436\tvalid_1's binary_logloss: 0.425085\tvalid_1's binary_logloss: 0.425085\n",
            "[54]\ttraining's binary_logloss: 0.284934\ttraining's binary_logloss: 0.284934\tvalid_1's binary_logloss: 0.425162\tvalid_1's binary_logloss: 0.425162\n",
            "[55]\ttraining's binary_logloss: 0.283385\ttraining's binary_logloss: 0.283385\tvalid_1's binary_logloss: 0.425714\tvalid_1's binary_logloss: 0.425714\n",
            "[56]\ttraining's binary_logloss: 0.281747\ttraining's binary_logloss: 0.281747\tvalid_1's binary_logloss: 0.4261\tvalid_1's binary_logloss: 0.4261\n",
            "[57]\ttraining's binary_logloss: 0.280415\ttraining's binary_logloss: 0.280415\tvalid_1's binary_logloss: 0.426548\tvalid_1's binary_logloss: 0.426548\n",
            "[58]\ttraining's binary_logloss: 0.279334\ttraining's binary_logloss: 0.279334\tvalid_1's binary_logloss: 0.427062\tvalid_1's binary_logloss: 0.427062\n",
            "[59]\ttraining's binary_logloss: 0.277949\ttraining's binary_logloss: 0.277949\tvalid_1's binary_logloss: 0.427346\tvalid_1's binary_logloss: 0.427346\n",
            "[60]\ttraining's binary_logloss: 0.276603\ttraining's binary_logloss: 0.276603\tvalid_1's binary_logloss: 0.427907\tvalid_1's binary_logloss: 0.427907\n",
            "[61]\ttraining's binary_logloss: 0.275124\ttraining's binary_logloss: 0.275124\tvalid_1's binary_logloss: 0.428029\tvalid_1's binary_logloss: 0.428029\n",
            "[62]\ttraining's binary_logloss: 0.27394\ttraining's binary_logloss: 0.27394\tvalid_1's binary_logloss: 0.4284\tvalid_1's binary_logloss: 0.4284\n",
            "[63]\ttraining's binary_logloss: 0.272266\ttraining's binary_logloss: 0.272266\tvalid_1's binary_logloss: 0.429506\tvalid_1's binary_logloss: 0.429506\n",
            "[64]\ttraining's binary_logloss: 0.271241\ttraining's binary_logloss: 0.271241\tvalid_1's binary_logloss: 0.429867\tvalid_1's binary_logloss: 0.429867\n",
            "[65]\ttraining's binary_logloss: 0.270067\ttraining's binary_logloss: 0.270067\tvalid_1's binary_logloss: 0.430377\tvalid_1's binary_logloss: 0.430377\n",
            "[66]\ttraining's binary_logloss: 0.26864\ttraining's binary_logloss: 0.26864\tvalid_1's binary_logloss: 0.429963\tvalid_1's binary_logloss: 0.429963\n",
            "[67]\ttraining's binary_logloss: 0.267416\ttraining's binary_logloss: 0.267416\tvalid_1's binary_logloss: 0.430048\tvalid_1's binary_logloss: 0.430048\n",
            "[68]\ttraining's binary_logloss: 0.265882\ttraining's binary_logloss: 0.265882\tvalid_1's binary_logloss: 0.430522\tvalid_1's binary_logloss: 0.430522\n",
            "[69]\ttraining's binary_logloss: 0.264611\ttraining's binary_logloss: 0.264611\tvalid_1's binary_logloss: 0.430677\tvalid_1's binary_logloss: 0.430677\n",
            "[70]\ttraining's binary_logloss: 0.263357\ttraining's binary_logloss: 0.263357\tvalid_1's binary_logloss: 0.430848\tvalid_1's binary_logloss: 0.430848\n",
            "[71]\ttraining's binary_logloss: 0.262233\ttraining's binary_logloss: 0.262233\tvalid_1's binary_logloss: 0.431073\tvalid_1's binary_logloss: 0.431073\n",
            "[72]\ttraining's binary_logloss: 0.260905\ttraining's binary_logloss: 0.260905\tvalid_1's binary_logloss: 0.431803\tvalid_1's binary_logloss: 0.431803\n",
            "[73]\ttraining's binary_logloss: 0.259884\ttraining's binary_logloss: 0.259884\tvalid_1's binary_logloss: 0.432296\tvalid_1's binary_logloss: 0.432296\n",
            "[74]\ttraining's binary_logloss: 0.258675\ttraining's binary_logloss: 0.258675\tvalid_1's binary_logloss: 0.432554\tvalid_1's binary_logloss: 0.432554\n",
            "[75]\ttraining's binary_logloss: 0.257394\ttraining's binary_logloss: 0.257394\tvalid_1's binary_logloss: 0.432824\tvalid_1's binary_logloss: 0.432824\n",
            "[76]\ttraining's binary_logloss: 0.256071\ttraining's binary_logloss: 0.256071\tvalid_1's binary_logloss: 0.433119\tvalid_1's binary_logloss: 0.433119\n",
            "[77]\ttraining's binary_logloss: 0.254961\ttraining's binary_logloss: 0.254961\tvalid_1's binary_logloss: 0.433547\tvalid_1's binary_logloss: 0.433547\n",
            "[78]\ttraining's binary_logloss: 0.254089\ttraining's binary_logloss: 0.254089\tvalid_1's binary_logloss: 0.433682\tvalid_1's binary_logloss: 0.433682\n",
            "[79]\ttraining's binary_logloss: 0.25288\ttraining's binary_logloss: 0.25288\tvalid_1's binary_logloss: 0.433773\tvalid_1's binary_logloss: 0.433773\n",
            "[80]\ttraining's binary_logloss: 0.251943\ttraining's binary_logloss: 0.251943\tvalid_1's binary_logloss: 0.433997\tvalid_1's binary_logloss: 0.433997\n",
            "[81]\ttraining's binary_logloss: 0.250924\ttraining's binary_logloss: 0.250924\tvalid_1's binary_logloss: 0.434695\tvalid_1's binary_logloss: 0.434695\n",
            "Early stopping, best iteration is:\n",
            "[31]\ttraining's binary_logloss: 0.330924\ttraining's binary_logloss: 0.330924\tvalid_1's binary_logloss: 0.420163\tvalid_1's binary_logloss: 0.420163\n",
            "\n",
            "정확도: 0.7927\n",
            "정밀도: 0.7400\n",
            "재현율: 0.6870\n",
            "F1: 0.7039\n"
          ]
        }
      ]
    },
    {
      "cell_type": "markdown",
      "source": [
        "#### 요구사항 3. 학습된 LightGBM 모델에서 plot_importance()를 이용하여 feature 중요도 시각화하기"
      ],
      "metadata": {
        "id": "KliAhA9vDIL5"
      }
    },
    {
      "cell_type": "code",
      "source": [
        "from lightgbm import plot_importance\n",
        "import matplotlib.pyplot as plt\n",
        "%matplotlib inline\n",
        "\n",
        "#요구사항\n",
        "fig, ax = plt.subplots(figsize = (10, 12))\n",
        "plot_importance(lgbm_wrapper, ax=ax)"
      ],
      "metadata": {
        "colab": {
          "base_uri": "https://localhost:8080/",
          "height": 748
        },
        "id": "M1OsvMGgBWmy",
        "outputId": "90c8e1a0-b964-40ca-bb74-d281f8b3879d"
      },
      "execution_count": 10,
      "outputs": [
        {
          "output_type": "execute_result",
          "data": {
            "text/plain": [
              "<matplotlib.axes._subplots.AxesSubplot at 0x7f29c2d4a490>"
            ]
          },
          "metadata": {},
          "execution_count": 10
        },
        {
          "output_type": "display_data",
          "data": {
            "text/plain": [
              "<Figure size 720x864 with 1 Axes>"
            ],
            "image/png": "[encoded data removed]"
          },
          "metadata": {
            "needs_background": "light"
          }
        }
      ]
    },
    {
      "cell_type": "markdown",
      "source": [
        "#### 요구사항 6. 학습 데이터를 오버 샘플링 후 LightGBM 학습/예측/평가 수행"
      ],
      "metadata": {
        "id": "UB3nPWO2EXdQ"
      }
    },
    {
      "cell_type": "code",
      "source": [
        "# 오버샘플링 적용\n",
        "import imblearn\n",
        "from imblearn.over_sampling import SMOTE\n",
        "\n",
        "smote = SMOTE(random_state = 0)\n",
        "ftr_train_over, tgt_train_over = smote.fit_resample(ftr_train, tgt_train)\n",
        "\n",
        "\n",
        "ftr_tr_over, ftr_val_over, tgt_tr_over, tgt_val_over = train_test_split(ftr_train_over, tgt_train_over, test_size=0.3, random_state=0, stratify=tgt_train_over)"
      ],
      "metadata": {
        "id": "wVROakB1DgwY"
      },
      "execution_count": 11,
      "outputs": []
    },
    {
      "cell_type": "code",
      "source": [
        "evals_val = [(ftr_tr_over, tgt_tr_over), (ftr_val_over, tgt_val_over)]\n",
        "\n",
        "lgbm_wrapper = LGBMClassifier(n_estimators=500)\n",
        "lgbm_wrapper.fit(ftr_tr_over, tgt_tr_over, eval_metric='logloss', eval_set=evals_val, verbose=True, early_stopping_rounds=50)\n",
        "\n",
        "lgbm_preds = lgbm_wrapper.predict(ftr_test)\n",
        "\n",
        "get_clf_eval(tgt_test, lgbm_preds)"
      ],
      "metadata": {
        "colab": {
          "base_uri": "https://localhost:8080/"
        },
        "id": "ol5xxb6_EtzZ",
        "outputId": "448b73ee-2821-4340-ce9e-28b806c9d90a"
      },
      "execution_count": 12,
      "outputs": [
        {
          "output_type": "stream",
          "name": "stdout",
          "text": [
            "[1]\ttraining's binary_logloss: 0.647796\ttraining's binary_logloss: 0.647796\tvalid_1's binary_logloss: 0.649015\tvalid_1's binary_logloss: 0.649015\n",
            "Training until validation scores don't improve for 50 rounds.\n",
            "[2]\ttraining's binary_logloss: 0.610205\ttraining's binary_logloss: 0.610205\tvalid_1's binary_logloss: 0.612839\tvalid_1's binary_logloss: 0.612839\n",
            "[3]\ttraining's binary_logloss: 0.577568\ttraining's binary_logloss: 0.577568\tvalid_1's binary_logloss: 0.581844\tvalid_1's binary_logloss: 0.581844\n",
            "[4]\ttraining's binary_logloss: 0.550524\ttraining's binary_logloss: 0.550524\tvalid_1's binary_logloss: 0.556482\tvalid_1's binary_logloss: 0.556482\n",
            "[5]\ttraining's binary_logloss: 0.526719\ttraining's binary_logloss: 0.526719\tvalid_1's binary_logloss: 0.534587\tvalid_1's binary_logloss: 0.534587\n",
            "[6]\ttraining's binary_logloss: 0.506475\ttraining's binary_logloss: 0.506475\tvalid_1's binary_logloss: 0.516722\tvalid_1's binary_logloss: 0.516722\n",
            "[7]\ttraining's binary_logloss: 0.488595\ttraining's binary_logloss: 0.488595\tvalid_1's binary_logloss: 0.50068\tvalid_1's binary_logloss: 0.50068\n",
            "[8]\ttraining's binary_logloss: 0.472411\ttraining's binary_logloss: 0.472411\tvalid_1's binary_logloss: 0.485962\tvalid_1's binary_logloss: 0.485962\n",
            "[9]\ttraining's binary_logloss: 0.457966\ttraining's binary_logloss: 0.457966\tvalid_1's binary_logloss: 0.473019\tvalid_1's binary_logloss: 0.473019\n",
            "[10]\ttraining's binary_logloss: 0.445519\ttraining's binary_logloss: 0.445519\tvalid_1's binary_logloss: 0.461953\tvalid_1's binary_logloss: 0.461953\n",
            "[11]\ttraining's binary_logloss: 0.433735\ttraining's binary_logloss: 0.433735\tvalid_1's binary_logloss: 0.45166\tvalid_1's binary_logloss: 0.45166\n",
            "[12]\ttraining's binary_logloss: 0.423454\ttraining's binary_logloss: 0.423454\tvalid_1's binary_logloss: 0.442292\tvalid_1's binary_logloss: 0.442292\n",
            "[13]\ttraining's binary_logloss: 0.413866\ttraining's binary_logloss: 0.413866\tvalid_1's binary_logloss: 0.434518\tvalid_1's binary_logloss: 0.434518\n",
            "[14]\ttraining's binary_logloss: 0.406095\ttraining's binary_logloss: 0.406095\tvalid_1's binary_logloss: 0.427739\tvalid_1's binary_logloss: 0.427739\n",
            "[15]\ttraining's binary_logloss: 0.398391\ttraining's binary_logloss: 0.398391\tvalid_1's binary_logloss: 0.42099\tvalid_1's binary_logloss: 0.42099\n",
            "[16]\ttraining's binary_logloss: 0.391088\ttraining's binary_logloss: 0.391088\tvalid_1's binary_logloss: 0.415125\tvalid_1's binary_logloss: 0.415125\n",
            "[17]\ttraining's binary_logloss: 0.384254\ttraining's binary_logloss: 0.384254\tvalid_1's binary_logloss: 0.409151\tvalid_1's binary_logloss: 0.409151\n",
            "[18]\ttraining's binary_logloss: 0.378688\ttraining's binary_logloss: 0.378688\tvalid_1's binary_logloss: 0.404996\tvalid_1's binary_logloss: 0.404996\n",
            "[19]\ttraining's binary_logloss: 0.373418\ttraining's binary_logloss: 0.373418\tvalid_1's binary_logloss: 0.40095\tvalid_1's binary_logloss: 0.40095\n",
            "[20]\ttraining's binary_logloss: 0.368613\ttraining's binary_logloss: 0.368613\tvalid_1's binary_logloss: 0.397307\tvalid_1's binary_logloss: 0.397307\n",
            "[21]\ttraining's binary_logloss: 0.363829\ttraining's binary_logloss: 0.363829\tvalid_1's binary_logloss: 0.393893\tvalid_1's binary_logloss: 0.393893\n",
            "[22]\ttraining's binary_logloss: 0.358425\ttraining's binary_logloss: 0.358425\tvalid_1's binary_logloss: 0.389222\tvalid_1's binary_logloss: 0.389222\n",
            "[23]\ttraining's binary_logloss: 0.353858\ttraining's binary_logloss: 0.353858\tvalid_1's binary_logloss: 0.385826\tvalid_1's binary_logloss: 0.385826\n",
            "[24]\ttraining's binary_logloss: 0.349082\ttraining's binary_logloss: 0.349082\tvalid_1's binary_logloss: 0.381242\tvalid_1's binary_logloss: 0.381242\n",
            "[25]\ttraining's binary_logloss: 0.34457\ttraining's binary_logloss: 0.34457\tvalid_1's binary_logloss: 0.377076\tvalid_1's binary_logloss: 0.377076\n",
            "[26]\ttraining's binary_logloss: 0.340885\ttraining's binary_logloss: 0.340885\tvalid_1's binary_logloss: 0.374404\tvalid_1's binary_logloss: 0.374404\n",
            "[27]\ttraining's binary_logloss: 0.337642\ttraining's binary_logloss: 0.337642\tvalid_1's binary_logloss: 0.372651\tvalid_1's binary_logloss: 0.372651\n",
            "[28]\ttraining's binary_logloss: 0.334182\ttraining's binary_logloss: 0.334182\tvalid_1's binary_logloss: 0.371066\tvalid_1's binary_logloss: 0.371066\n",
            "[29]\ttraining's binary_logloss: 0.330685\ttraining's binary_logloss: 0.330685\tvalid_1's binary_logloss: 0.368456\tvalid_1's binary_logloss: 0.368456\n",
            "[30]\ttraining's binary_logloss: 0.327025\ttraining's binary_logloss: 0.327025\tvalid_1's binary_logloss: 0.366388\tvalid_1's binary_logloss: 0.366388\n",
            "[31]\ttraining's binary_logloss: 0.323953\ttraining's binary_logloss: 0.323953\tvalid_1's binary_logloss: 0.365124\tvalid_1's binary_logloss: 0.365124\n",
            "[32]\ttraining's binary_logloss: 0.320471\ttraining's binary_logloss: 0.320471\tvalid_1's binary_logloss: 0.36187\tvalid_1's binary_logloss: 0.36187\n",
            "[33]\ttraining's binary_logloss: 0.317129\ttraining's binary_logloss: 0.317129\tvalid_1's binary_logloss: 0.359371\tvalid_1's binary_logloss: 0.359371\n",
            "[34]\ttraining's binary_logloss: 0.314192\ttraining's binary_logloss: 0.314192\tvalid_1's binary_logloss: 0.356789\tvalid_1's binary_logloss: 0.356789\n",
            "[35]\ttraining's binary_logloss: 0.311445\ttraining's binary_logloss: 0.311445\tvalid_1's binary_logloss: 0.355121\tvalid_1's binary_logloss: 0.355121\n",
            "[36]\ttraining's binary_logloss: 0.30819\ttraining's binary_logloss: 0.30819\tvalid_1's binary_logloss: 0.35273\tvalid_1's binary_logloss: 0.35273\n",
            "[37]\ttraining's binary_logloss: 0.305795\ttraining's binary_logloss: 0.305795\tvalid_1's binary_logloss: 0.351731\tvalid_1's binary_logloss: 0.351731\n",
            "[38]\ttraining's binary_logloss: 0.303352\ttraining's binary_logloss: 0.303352\tvalid_1's binary_logloss: 0.350518\tvalid_1's binary_logloss: 0.350518\n",
            "[39]\ttraining's binary_logloss: 0.300438\ttraining's binary_logloss: 0.300438\tvalid_1's binary_logloss: 0.348771\tvalid_1's binary_logloss: 0.348771\n",
            "[40]\ttraining's binary_logloss: 0.297639\ttraining's binary_logloss: 0.297639\tvalid_1's binary_logloss: 0.347094\tvalid_1's binary_logloss: 0.347094\n",
            "[41]\ttraining's binary_logloss: 0.295154\ttraining's binary_logloss: 0.295154\tvalid_1's binary_logloss: 0.345829\tvalid_1's binary_logloss: 0.345829\n",
            "[42]\ttraining's binary_logloss: 0.29288\ttraining's binary_logloss: 0.29288\tvalid_1's binary_logloss: 0.344189\tvalid_1's binary_logloss: 0.344189\n",
            "[43]\ttraining's binary_logloss: 0.290513\ttraining's binary_logloss: 0.290513\tvalid_1's binary_logloss: 0.34283\tvalid_1's binary_logloss: 0.34283\n",
            "[44]\ttraining's binary_logloss: 0.288599\ttraining's binary_logloss: 0.288599\tvalid_1's binary_logloss: 0.341874\tvalid_1's binary_logloss: 0.341874\n",
            "[45]\ttraining's binary_logloss: 0.286146\ttraining's binary_logloss: 0.286146\tvalid_1's binary_logloss: 0.340973\tvalid_1's binary_logloss: 0.340973\n",
            "[46]\ttraining's binary_logloss: 0.284324\ttraining's binary_logloss: 0.284324\tvalid_1's binary_logloss: 0.34011\tvalid_1's binary_logloss: 0.34011\n",
            "[47]\ttraining's binary_logloss: 0.282245\ttraining's binary_logloss: 0.282245\tvalid_1's binary_logloss: 0.338954\tvalid_1's binary_logloss: 0.338954\n",
            "[48]\ttraining's binary_logloss: 0.28\ttraining's binary_logloss: 0.28\tvalid_1's binary_logloss: 0.338084\tvalid_1's binary_logloss: 0.338084\n",
            "[49]\ttraining's binary_logloss: 0.277466\ttraining's binary_logloss: 0.277466\tvalid_1's binary_logloss: 0.337079\tvalid_1's binary_logloss: 0.337079\n",
            "[50]\ttraining's binary_logloss: 0.27561\ttraining's binary_logloss: 0.27561\tvalid_1's binary_logloss: 0.336803\tvalid_1's binary_logloss: 0.336803\n",
            "[51]\ttraining's binary_logloss: 0.273852\ttraining's binary_logloss: 0.273852\tvalid_1's binary_logloss: 0.336122\tvalid_1's binary_logloss: 0.336122\n",
            "[52]\ttraining's binary_logloss: 0.272141\ttraining's binary_logloss: 0.272141\tvalid_1's binary_logloss: 0.335527\tvalid_1's binary_logloss: 0.335527\n",
            "[53]\ttraining's binary_logloss: 0.27043\ttraining's binary_logloss: 0.27043\tvalid_1's binary_logloss: 0.33533\tvalid_1's binary_logloss: 0.33533\n",
            "[54]\ttraining's binary_logloss: 0.268763\ttraining's binary_logloss: 0.268763\tvalid_1's binary_logloss: 0.334934\tvalid_1's binary_logloss: 0.334934\n",
            "[55]\ttraining's binary_logloss: 0.267178\ttraining's binary_logloss: 0.267178\tvalid_1's binary_logloss: 0.334664\tvalid_1's binary_logloss: 0.334664\n",
            "[56]\ttraining's binary_logloss: 0.265201\ttraining's binary_logloss: 0.265201\tvalid_1's binary_logloss: 0.334024\tvalid_1's binary_logloss: 0.334024\n",
            "[57]\ttraining's binary_logloss: 0.263496\ttraining's binary_logloss: 0.263496\tvalid_1's binary_logloss: 0.333337\tvalid_1's binary_logloss: 0.333337\n",
            "[58]\ttraining's binary_logloss: 0.261654\ttraining's binary_logloss: 0.261654\tvalid_1's binary_logloss: 0.333027\tvalid_1's binary_logloss: 0.333027\n",
            "[59]\ttraining's binary_logloss: 0.260194\ttraining's binary_logloss: 0.260194\tvalid_1's binary_logloss: 0.33252\tvalid_1's binary_logloss: 0.33252\n",
            "[60]\ttraining's binary_logloss: 0.258785\ttraining's binary_logloss: 0.258785\tvalid_1's binary_logloss: 0.332378\tvalid_1's binary_logloss: 0.332378\n",
            "[61]\ttraining's binary_logloss: 0.257214\ttraining's binary_logloss: 0.257214\tvalid_1's binary_logloss: 0.3321\tvalid_1's binary_logloss: 0.3321\n",
            "[62]\ttraining's binary_logloss: 0.255577\ttraining's binary_logloss: 0.255577\tvalid_1's binary_logloss: 0.331789\tvalid_1's binary_logloss: 0.331789\n",
            "[63]\ttraining's binary_logloss: 0.254377\ttraining's binary_logloss: 0.254377\tvalid_1's binary_logloss: 0.331651\tvalid_1's binary_logloss: 0.331651\n",
            "[64]\ttraining's binary_logloss: 0.25286\ttraining's binary_logloss: 0.25286\tvalid_1's binary_logloss: 0.331556\tvalid_1's binary_logloss: 0.331556\n",
            "[65]\ttraining's binary_logloss: 0.251357\ttraining's binary_logloss: 0.251357\tvalid_1's binary_logloss: 0.331003\tvalid_1's binary_logloss: 0.331003\n",
            "[66]\ttraining's binary_logloss: 0.250147\ttraining's binary_logloss: 0.250147\tvalid_1's binary_logloss: 0.331021\tvalid_1's binary_logloss: 0.331021\n",
            "[67]\ttraining's binary_logloss: 0.248479\ttraining's binary_logloss: 0.248479\tvalid_1's binary_logloss: 0.330345\tvalid_1's binary_logloss: 0.330345\n",
            "[68]\ttraining's binary_logloss: 0.246697\ttraining's binary_logloss: 0.246697\tvalid_1's binary_logloss: 0.329767\tvalid_1's binary_logloss: 0.329767\n",
            "[69]\ttraining's binary_logloss: 0.245524\ttraining's binary_logloss: 0.245524\tvalid_1's binary_logloss: 0.329248\tvalid_1's binary_logloss: 0.329248\n",
            "[70]\ttraining's binary_logloss: 0.244181\ttraining's binary_logloss: 0.244181\tvalid_1's binary_logloss: 0.328897\tvalid_1's binary_logloss: 0.328897\n",
            "[71]\ttraining's binary_logloss: 0.242751\ttraining's binary_logloss: 0.242751\tvalid_1's binary_logloss: 0.328316\tvalid_1's binary_logloss: 0.328316\n",
            "[72]\ttraining's binary_logloss: 0.241763\ttraining's binary_logloss: 0.241763\tvalid_1's binary_logloss: 0.32784\tvalid_1's binary_logloss: 0.32784\n",
            "[73]\ttraining's binary_logloss: 0.240448\ttraining's binary_logloss: 0.240448\tvalid_1's binary_logloss: 0.327268\tvalid_1's binary_logloss: 0.327268\n",
            "[74]\ttraining's binary_logloss: 0.239146\ttraining's binary_logloss: 0.239146\tvalid_1's binary_logloss: 0.326857\tvalid_1's binary_logloss: 0.326857\n",
            "[75]\ttraining's binary_logloss: 0.237989\ttraining's binary_logloss: 0.237989\tvalid_1's binary_logloss: 0.326767\tvalid_1's binary_logloss: 0.326767\n",
            "[76]\ttraining's binary_logloss: 0.236419\ttraining's binary_logloss: 0.236419\tvalid_1's binary_logloss: 0.32595\tvalid_1's binary_logloss: 0.32595\n",
            "[77]\ttraining's binary_logloss: 0.235281\ttraining's binary_logloss: 0.235281\tvalid_1's binary_logloss: 0.326131\tvalid_1's binary_logloss: 0.326131\n",
            "[78]\ttraining's binary_logloss: 0.234197\ttraining's binary_logloss: 0.234197\tvalid_1's binary_logloss: 0.326078\tvalid_1's binary_logloss: 0.326078\n",
            "[79]\ttraining's binary_logloss: 0.232863\ttraining's binary_logloss: 0.232863\tvalid_1's binary_logloss: 0.325869\tvalid_1's binary_logloss: 0.325869\n",
            "[80]\ttraining's binary_logloss: 0.231907\ttraining's binary_logloss: 0.231907\tvalid_1's binary_logloss: 0.325438\tvalid_1's binary_logloss: 0.325438\n",
            "[81]\ttraining's binary_logloss: 0.230726\ttraining's binary_logloss: 0.230726\tvalid_1's binary_logloss: 0.325626\tvalid_1's binary_logloss: 0.325626\n",
            "[82]\ttraining's binary_logloss: 0.229348\ttraining's binary_logloss: 0.229348\tvalid_1's binary_logloss: 0.325976\tvalid_1's binary_logloss: 0.325976\n",
            "[83]\ttraining's binary_logloss: 0.228518\ttraining's binary_logloss: 0.228518\tvalid_1's binary_logloss: 0.325894\tvalid_1's binary_logloss: 0.325894\n",
            "[84]\ttraining's binary_logloss: 0.227566\ttraining's binary_logloss: 0.227566\tvalid_1's binary_logloss: 0.325784\tvalid_1's binary_logloss: 0.325784\n",
            "[85]\ttraining's binary_logloss: 0.226234\ttraining's binary_logloss: 0.226234\tvalid_1's binary_logloss: 0.325367\tvalid_1's binary_logloss: 0.325367\n",
            "[86]\ttraining's binary_logloss: 0.225056\ttraining's binary_logloss: 0.225056\tvalid_1's binary_logloss: 0.325762\tvalid_1's binary_logloss: 0.325762\n",
            "[87]\ttraining's binary_logloss: 0.224225\ttraining's binary_logloss: 0.224225\tvalid_1's binary_logloss: 0.325925\tvalid_1's binary_logloss: 0.325925\n",
            "[88]\ttraining's binary_logloss: 0.223231\ttraining's binary_logloss: 0.223231\tvalid_1's binary_logloss: 0.325816\tvalid_1's binary_logloss: 0.325816\n",
            "[89]\ttraining's binary_logloss: 0.222481\ttraining's binary_logloss: 0.222481\tvalid_1's binary_logloss: 0.326102\tvalid_1's binary_logloss: 0.326102\n",
            "[90]\ttraining's binary_logloss: 0.221457\ttraining's binary_logloss: 0.221457\tvalid_1's binary_logloss: 0.32594\tvalid_1's binary_logloss: 0.32594\n",
            "[91]\ttraining's binary_logloss: 0.220511\ttraining's binary_logloss: 0.220511\tvalid_1's binary_logloss: 0.325579\tvalid_1's binary_logloss: 0.325579\n",
            "[92]\ttraining's binary_logloss: 0.219396\ttraining's binary_logloss: 0.219396\tvalid_1's binary_logloss: 0.325618\tvalid_1's binary_logloss: 0.325618\n",
            "[93]\ttraining's binary_logloss: 0.218417\ttraining's binary_logloss: 0.218417\tvalid_1's binary_logloss: 0.325612\tvalid_1's binary_logloss: 0.325612\n",
            "[94]\ttraining's binary_logloss: 0.217428\ttraining's binary_logloss: 0.217428\tvalid_1's binary_logloss: 0.325642\tvalid_1's binary_logloss: 0.325642\n",
            "[95]\ttraining's binary_logloss: 0.216499\ttraining's binary_logloss: 0.216499\tvalid_1's binary_logloss: 0.325536\tvalid_1's binary_logloss: 0.325536\n",
            "[96]\ttraining's binary_logloss: 0.215746\ttraining's binary_logloss: 0.215746\tvalid_1's binary_logloss: 0.325021\tvalid_1's binary_logloss: 0.325021\n",
            "[97]\ttraining's binary_logloss: 0.214889\ttraining's binary_logloss: 0.214889\tvalid_1's binary_logloss: 0.324798\tvalid_1's binary_logloss: 0.324798\n",
            "[98]\ttraining's binary_logloss: 0.214206\ttraining's binary_logloss: 0.214206\tvalid_1's binary_logloss: 0.324759\tvalid_1's binary_logloss: 0.324759\n",
            "[99]\ttraining's binary_logloss: 0.213195\ttraining's binary_logloss: 0.213195\tvalid_1's binary_logloss: 0.325438\tvalid_1's binary_logloss: 0.325438\n",
            "[100]\ttraining's binary_logloss: 0.212191\ttraining's binary_logloss: 0.212191\tvalid_1's binary_logloss: 0.325391\tvalid_1's binary_logloss: 0.325391\n",
            "[101]\ttraining's binary_logloss: 0.211181\ttraining's binary_logloss: 0.211181\tvalid_1's binary_logloss: 0.325589\tvalid_1's binary_logloss: 0.325589\n",
            "[102]\ttraining's binary_logloss: 0.210334\ttraining's binary_logloss: 0.210334\tvalid_1's binary_logloss: 0.325939\tvalid_1's binary_logloss: 0.325939\n",
            "[103]\ttraining's binary_logloss: 0.209469\ttraining's binary_logloss: 0.209469\tvalid_1's binary_logloss: 0.326116\tvalid_1's binary_logloss: 0.326116\n",
            "[104]\ttraining's binary_logloss: 0.208348\ttraining's binary_logloss: 0.208348\tvalid_1's binary_logloss: 0.325876\tvalid_1's binary_logloss: 0.325876\n",
            "[105]\ttraining's binary_logloss: 0.207381\ttraining's binary_logloss: 0.207381\tvalid_1's binary_logloss: 0.325756\tvalid_1's binary_logloss: 0.325756\n",
            "[106]\ttraining's binary_logloss: 0.206775\ttraining's binary_logloss: 0.206775\tvalid_1's binary_logloss: 0.325698\tvalid_1's binary_logloss: 0.325698\n",
            "[107]\ttraining's binary_logloss: 0.205505\ttraining's binary_logloss: 0.205505\tvalid_1's binary_logloss: 0.32543\tvalid_1's binary_logloss: 0.32543\n",
            "[108]\ttraining's binary_logloss: 0.204066\ttraining's binary_logloss: 0.204066\tvalid_1's binary_logloss: 0.324827\tvalid_1's binary_logloss: 0.324827\n",
            "[109]\ttraining's binary_logloss: 0.203152\ttraining's binary_logloss: 0.203152\tvalid_1's binary_logloss: 0.324771\tvalid_1's binary_logloss: 0.324771\n",
            "[110]\ttraining's binary_logloss: 0.202509\ttraining's binary_logloss: 0.202509\tvalid_1's binary_logloss: 0.325012\tvalid_1's binary_logloss: 0.325012\n",
            "[111]\ttraining's binary_logloss: 0.201441\ttraining's binary_logloss: 0.201441\tvalid_1's binary_logloss: 0.324739\tvalid_1's binary_logloss: 0.324739\n",
            "[112]\ttraining's binary_logloss: 0.200594\ttraining's binary_logloss: 0.200594\tvalid_1's binary_logloss: 0.324613\tvalid_1's binary_logloss: 0.324613\n",
            "[113]\ttraining's binary_logloss: 0.199669\ttraining's binary_logloss: 0.199669\tvalid_1's binary_logloss: 0.32485\tvalid_1's binary_logloss: 0.32485\n",
            "[114]\ttraining's binary_logloss: 0.198562\ttraining's binary_logloss: 0.198562\tvalid_1's binary_logloss: 0.324754\tvalid_1's binary_logloss: 0.324754\n",
            "[115]\ttraining's binary_logloss: 0.19745\ttraining's binary_logloss: 0.19745\tvalid_1's binary_logloss: 0.324892\tvalid_1's binary_logloss: 0.324892\n",
            "[116]\ttraining's binary_logloss: 0.196632\ttraining's binary_logloss: 0.196632\tvalid_1's binary_logloss: 0.324488\tvalid_1's binary_logloss: 0.324488\n",
            "[117]\ttraining's binary_logloss: 0.195554\ttraining's binary_logloss: 0.195554\tvalid_1's binary_logloss: 0.324554\tvalid_1's binary_logloss: 0.324554\n",
            "[118]\ttraining's binary_logloss: 0.194648\ttraining's binary_logloss: 0.194648\tvalid_1's binary_logloss: 0.324293\tvalid_1's binary_logloss: 0.324293\n",
            "[119]\ttraining's binary_logloss: 0.193552\ttraining's binary_logloss: 0.193552\tvalid_1's binary_logloss: 0.3241\tvalid_1's binary_logloss: 0.3241\n",
            "[120]\ttraining's binary_logloss: 0.192817\ttraining's binary_logloss: 0.192817\tvalid_1's binary_logloss: 0.324053\tvalid_1's binary_logloss: 0.324053\n",
            "[121]\ttraining's binary_logloss: 0.192068\ttraining's binary_logloss: 0.192068\tvalid_1's binary_logloss: 0.323797\tvalid_1's binary_logloss: 0.323797\n",
            "[122]\ttraining's binary_logloss: 0.191381\ttraining's binary_logloss: 0.191381\tvalid_1's binary_logloss: 0.323842\tvalid_1's binary_logloss: 0.323842\n",
            "[123]\ttraining's binary_logloss: 0.190571\ttraining's binary_logloss: 0.190571\tvalid_1's binary_logloss: 0.323621\tvalid_1's binary_logloss: 0.323621\n",
            "[124]\ttraining's binary_logloss: 0.189742\ttraining's binary_logloss: 0.189742\tvalid_1's binary_logloss: 0.323747\tvalid_1's binary_logloss: 0.323747\n",
            "[125]\ttraining's binary_logloss: 0.188841\ttraining's binary_logloss: 0.188841\tvalid_1's binary_logloss: 0.323764\tvalid_1's binary_logloss: 0.323764\n",
            "[126]\ttraining's binary_logloss: 0.187938\ttraining's binary_logloss: 0.187938\tvalid_1's binary_logloss: 0.323757\tvalid_1's binary_logloss: 0.323757\n",
            "[127]\ttraining's binary_logloss: 0.187349\ttraining's binary_logloss: 0.187349\tvalid_1's binary_logloss: 0.32393\tvalid_1's binary_logloss: 0.32393\n",
            "[128]\ttraining's binary_logloss: 0.186555\ttraining's binary_logloss: 0.186555\tvalid_1's binary_logloss: 0.324272\tvalid_1's binary_logloss: 0.324272\n",
            "[129]\ttraining's binary_logloss: 0.185627\ttraining's binary_logloss: 0.185627\tvalid_1's binary_logloss: 0.324503\tvalid_1's binary_logloss: 0.324503\n",
            "[130]\ttraining's binary_logloss: 0.184727\ttraining's binary_logloss: 0.184727\tvalid_1's binary_logloss: 0.324165\tvalid_1's binary_logloss: 0.324165\n",
            "[131]\ttraining's binary_logloss: 0.184002\ttraining's binary_logloss: 0.184002\tvalid_1's binary_logloss: 0.32431\tvalid_1's binary_logloss: 0.32431\n",
            "[132]\ttraining's binary_logloss: 0.183128\ttraining's binary_logloss: 0.183128\tvalid_1's binary_logloss: 0.324602\tvalid_1's binary_logloss: 0.324602\n",
            "[133]\ttraining's binary_logloss: 0.182271\ttraining's binary_logloss: 0.182271\tvalid_1's binary_logloss: 0.324311\tvalid_1's binary_logloss: 0.324311\n",
            "[134]\ttraining's binary_logloss: 0.181518\ttraining's binary_logloss: 0.181518\tvalid_1's binary_logloss: 0.324218\tvalid_1's binary_logloss: 0.324218\n",
            "[135]\ttraining's binary_logloss: 0.180704\ttraining's binary_logloss: 0.180704\tvalid_1's binary_logloss: 0.324115\tvalid_1's binary_logloss: 0.324115\n",
            "[136]\ttraining's binary_logloss: 0.179857\ttraining's binary_logloss: 0.179857\tvalid_1's binary_logloss: 0.324114\tvalid_1's binary_logloss: 0.324114\n",
            "[137]\ttraining's binary_logloss: 0.179128\ttraining's binary_logloss: 0.179128\tvalid_1's binary_logloss: 0.324236\tvalid_1's binary_logloss: 0.324236\n",
            "[138]\ttraining's binary_logloss: 0.178536\ttraining's binary_logloss: 0.178536\tvalid_1's binary_logloss: 0.324361\tvalid_1's binary_logloss: 0.324361\n",
            "[139]\ttraining's binary_logloss: 0.178001\ttraining's binary_logloss: 0.178001\tvalid_1's binary_logloss: 0.324355\tvalid_1's binary_logloss: 0.324355\n",
            "[140]\ttraining's binary_logloss: 0.177424\ttraining's binary_logloss: 0.177424\tvalid_1's binary_logloss: 0.324455\tvalid_1's binary_logloss: 0.324455\n",
            "[141]\ttraining's binary_logloss: 0.176393\ttraining's binary_logloss: 0.176393\tvalid_1's binary_logloss: 0.324242\tvalid_1's binary_logloss: 0.324242\n",
            "[142]\ttraining's binary_logloss: 0.175749\ttraining's binary_logloss: 0.175749\tvalid_1's binary_logloss: 0.324353\tvalid_1's binary_logloss: 0.324353\n",
            "[143]\ttraining's binary_logloss: 0.17523\ttraining's binary_logloss: 0.17523\tvalid_1's binary_logloss: 0.32448\tvalid_1's binary_logloss: 0.32448\n",
            "[144]\ttraining's binary_logloss: 0.174575\ttraining's binary_logloss: 0.174575\tvalid_1's binary_logloss: 0.324178\tvalid_1's binary_logloss: 0.324178\n",
            "[145]\ttraining's binary_logloss: 0.173602\ttraining's binary_logloss: 0.173602\tvalid_1's binary_logloss: 0.324127\tvalid_1's binary_logloss: 0.324127\n",
            "[146]\ttraining's binary_logloss: 0.172764\ttraining's binary_logloss: 0.172764\tvalid_1's binary_logloss: 0.323816\tvalid_1's binary_logloss: 0.323816\n",
            "[147]\ttraining's binary_logloss: 0.172021\ttraining's binary_logloss: 0.172021\tvalid_1's binary_logloss: 0.324035\tvalid_1's binary_logloss: 0.324035\n",
            "[148]\ttraining's binary_logloss: 0.171547\ttraining's binary_logloss: 0.171547\tvalid_1's binary_logloss: 0.324159\tvalid_1's binary_logloss: 0.324159\n",
            "[149]\ttraining's binary_logloss: 0.17097\ttraining's binary_logloss: 0.17097\tvalid_1's binary_logloss: 0.324595\tvalid_1's binary_logloss: 0.324595\n",
            "[150]\ttraining's binary_logloss: 0.170375\ttraining's binary_logloss: 0.170375\tvalid_1's binary_logloss: 0.324687\tvalid_1's binary_logloss: 0.324687\n",
            "[151]\ttraining's binary_logloss: 0.169773\ttraining's binary_logloss: 0.169773\tvalid_1's binary_logloss: 0.324303\tvalid_1's binary_logloss: 0.324303\n",
            "[152]\ttraining's binary_logloss: 0.169208\ttraining's binary_logloss: 0.169208\tvalid_1's binary_logloss: 0.324539\tvalid_1's binary_logloss: 0.324539\n",
            "[153]\ttraining's binary_logloss: 0.168647\ttraining's binary_logloss: 0.168647\tvalid_1's binary_logloss: 0.324913\tvalid_1's binary_logloss: 0.324913\n",
            "[154]\ttraining's binary_logloss: 0.167952\ttraining's binary_logloss: 0.167952\tvalid_1's binary_logloss: 0.324963\tvalid_1's binary_logloss: 0.324963\n",
            "[155]\ttraining's binary_logloss: 0.167457\ttraining's binary_logloss: 0.167457\tvalid_1's binary_logloss: 0.324992\tvalid_1's binary_logloss: 0.324992\n",
            "[156]\ttraining's binary_logloss: 0.166738\ttraining's binary_logloss: 0.166738\tvalid_1's binary_logloss: 0.324893\tvalid_1's binary_logloss: 0.324893\n",
            "[157]\ttraining's binary_logloss: 0.166257\ttraining's binary_logloss: 0.166257\tvalid_1's binary_logloss: 0.3252\tvalid_1's binary_logloss: 0.3252\n",
            "[158]\ttraining's binary_logloss: 0.165516\ttraining's binary_logloss: 0.165516\tvalid_1's binary_logloss: 0.325065\tvalid_1's binary_logloss: 0.325065\n",
            "[159]\ttraining's binary_logloss: 0.165136\ttraining's binary_logloss: 0.165136\tvalid_1's binary_logloss: 0.32506\tvalid_1's binary_logloss: 0.32506\n",
            "[160]\ttraining's binary_logloss: 0.164619\ttraining's binary_logloss: 0.164619\tvalid_1's binary_logloss: 0.324825\tvalid_1's binary_logloss: 0.324825\n",
            "[161]\ttraining's binary_logloss: 0.164025\ttraining's binary_logloss: 0.164025\tvalid_1's binary_logloss: 0.324872\tvalid_1's binary_logloss: 0.324872\n",
            "[162]\ttraining's binary_logloss: 0.163285\ttraining's binary_logloss: 0.163285\tvalid_1's binary_logloss: 0.324696\tvalid_1's binary_logloss: 0.324696\n",
            "[163]\ttraining's binary_logloss: 0.162889\ttraining's binary_logloss: 0.162889\tvalid_1's binary_logloss: 0.324525\tvalid_1's binary_logloss: 0.324525\n",
            "[164]\ttraining's binary_logloss: 0.162155\ttraining's binary_logloss: 0.162155\tvalid_1's binary_logloss: 0.324653\tvalid_1's binary_logloss: 0.324653\n",
            "[165]\ttraining's binary_logloss: 0.161571\ttraining's binary_logloss: 0.161571\tvalid_1's binary_logloss: 0.324743\tvalid_1's binary_logloss: 0.324743\n",
            "[166]\ttraining's binary_logloss: 0.161187\ttraining's binary_logloss: 0.161187\tvalid_1's binary_logloss: 0.325036\tvalid_1's binary_logloss: 0.325036\n",
            "[167]\ttraining's binary_logloss: 0.160422\ttraining's binary_logloss: 0.160422\tvalid_1's binary_logloss: 0.324798\tvalid_1's binary_logloss: 0.324798\n",
            "[168]\ttraining's binary_logloss: 0.159673\ttraining's binary_logloss: 0.159673\tvalid_1's binary_logloss: 0.324616\tvalid_1's binary_logloss: 0.324616\n",
            "[169]\ttraining's binary_logloss: 0.158925\ttraining's binary_logloss: 0.158925\tvalid_1's binary_logloss: 0.324919\tvalid_1's binary_logloss: 0.324919\n",
            "[170]\ttraining's binary_logloss: 0.158247\ttraining's binary_logloss: 0.158247\tvalid_1's binary_logloss: 0.32482\tvalid_1's binary_logloss: 0.32482\n",
            "[171]\ttraining's binary_logloss: 0.157572\ttraining's binary_logloss: 0.157572\tvalid_1's binary_logloss: 0.324337\tvalid_1's binary_logloss: 0.324337\n",
            "[172]\ttraining's binary_logloss: 0.156973\ttraining's binary_logloss: 0.156973\tvalid_1's binary_logloss: 0.324482\tvalid_1's binary_logloss: 0.324482\n",
            "[173]\ttraining's binary_logloss: 0.156505\ttraining's binary_logloss: 0.156505\tvalid_1's binary_logloss: 0.324873\tvalid_1's binary_logloss: 0.324873\n",
            "Early stopping, best iteration is:\n",
            "[123]\ttraining's binary_logloss: 0.190571\ttraining's binary_logloss: 0.190571\tvalid_1's binary_logloss: 0.323621\tvalid_1's binary_logloss: 0.323621\n",
            "\n",
            "정확도: 0.7619\n",
            "정밀도: 0.6975\n",
            "재현율: 0.7059\n",
            "F1: 0.7013\n"
          ]
        }
      ]
    },
    {
      "cell_type": "code",
      "source": [
        ""
      ],
      "metadata": {
        "id": "wRrEU4wVEjNS"
      },
      "execution_count": 12,
      "outputs": []
    }
  ]
}